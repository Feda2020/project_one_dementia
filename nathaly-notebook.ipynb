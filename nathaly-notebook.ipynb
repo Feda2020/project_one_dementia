{
 "cells": [
  {
   "cell_type": "code",
   "execution_count": 3,
   "id": "9b552be5-ca8b-422b-9a7c-45dd00ffd686",
   "metadata": {},
   "outputs": [],
   "source": [
    "## Dementia Risk Analysis - Group Project\n",
    "# --------------------------------------\n",
    "# This explores how lifestyle factors such as alcohol consumption, physical activity,\n",
    "# Smoking and diet affect the risk of developing dementia\n"
   ]
  },
  {
   "cell_type": "code",
   "execution_count": null,
   "id": "0e70bfe2-a85f-4276-b1b1-cd96c7912b5d",
   "metadata": {},
   "outputs": [],
   "source": [
    "# Dependencies (this needs to be adjusted as needed)\n",
    "import pandas as pd\n",
    "import matplotlib.pyplot as plt\n",
    "import numpy as np \n",
    "import scipy.stats as st\n",
    "from scipy.stats import linregress"
   ]
  },
  {
   "cell_type": "code",
   "execution_count": null,
   "id": "9f0b4068-bb0f-41c9-8539-a896199a0720",
   "metadata": {},
   "outputs": [],
   "source": [
    "# Load the dataset\n",
    "# Replace this with the path to your dataset\n",
    "data_path = \n",
    "\n",
    "\n",
    "# Display t the dataset to get a preview"
   ]
  },
  {
   "cell_type": "markdown",
   "id": "50ee7966-3e63-4504-aab8-d4bd913c5181",
   "metadata": {},
   "source": [
    "# Paige"
   ]
  },
  {
   "cell_type": "code",
   "execution_count": null,
   "id": "6a322c23-f00d-4ed0-b030-2a80e56e66b8",
   "metadata": {},
   "outputs": [],
   "source": [
    "# first part: Data Overview - Paige\n",
    "# Provide a summary of the dataset by checking for null values, basic statistics,data types, and add a visualization or table\n"
   ]
  },
  {
   "cell_type": "markdown",
   "id": "21e188bf-ff66-415f-b464-a96c0e715468",
   "metadata": {},
   "source": [
    "# Pat "
   ]
  },
  {
   "cell_type": "code",
   "execution_count": null,
   "id": "68f385b1-389f-4d7d-b315-76ff53d6f503",
   "metadata": {},
   "outputs": [],
   "source": [
    "# 2nd Part: Alcohol Consumption and Dementia \n",
    "# --------------------------------------------------------------------------------\n",
    "# Does alcohol consumption level correlate with a higher risk of dementia when\n",
    "# controlling for other variables like age and smoking status?"
   ]
  },
  {
   "cell_type": "code",
   "execution_count": null,
   "id": "8983da2e-088d-4b68-bc88-bf6df27d0cd6",
   "metadata": {},
   "outputs": [],
   "source": [
    "# Example:\n",
    "# Does alcohol consumption level correlate with a higher risk of dementia when controlling for other variables\n",
    "# like age and smoking status?"
   ]
  },
  {
   "cell_type": "markdown",
   "id": "57b004cd-8f4a-4b7e-bfc2-8ef9aa9e2a81",
   "metadata": {},
   "source": [
    "# Lakshay"
   ]
  },
  {
   "cell_type": "code",
   "execution_count": null,
   "id": "2405c4da-1571-42b7-b088-851243450028",
   "metadata": {},
   "outputs": [],
   "source": [
    "# 3rd Part: Physical Activity, Smoking, and Cognitive Scores \n",
    "# -----------------------------------------------------------------------------------------------\n",
    "# How does physical activity and smoking status impact cognitive test scores?"
   ]
  },
  {
   "cell_type": "code",
   "execution_count": null,
   "id": "a9da6592-7e08-4a69-be4b-a8c5740872b3",
   "metadata": {},
   "outputs": [],
   "source": [
    "# Example:\n",
    "# Group by physical activity and smoking status and calculate mean cognitive scores"
   ]
  },
  {
   "cell_type": "markdown",
   "id": "2be9da53-79ed-45b3-a039-c495c9bf63e9",
   "metadata": {},
   "source": [
    "# Feda"
   ]
  },
  {
   "cell_type": "code",
   "execution_count": null,
   "id": "6a9f080c-6174-4f51-9297-d4d3b282996e",
   "metadata": {},
   "outputs": [],
   "source": [
    "# 4th Part: Nutritional Diet and Dementia Diagnosis \n",
    "# ----------------------------------------------------------------------------------------\n",
    "# Is there a significant relationship between the patient's nutritional diet and dementia diagnosis?\n",
    "# Added multiple visualizations such as a pie chart for dementia diagnosis by diet, bar plots for cognitive scores by diet, or any graph analyze the impact of diet on different age groups."
   ]
  },
  {
   "cell_type": "code",
   "execution_count": null,
   "id": "0f49f0e4-55e5-4b5c-9340-2109f20b89e8",
   "metadata": {},
   "outputs": [],
   "source": [
    "# Example:\n",
    "# Group by diet and calculate the dementia diagnosis rate"
   ]
  },
  {
   "cell_type": "markdown",
   "id": "6530caab-4b80-4c03-8712-175af3207741",
   "metadata": {},
   "source": [
    "# Nathaly"
   ]
  },
  {
   "cell_type": "code",
   "execution_count": null,
   "id": "20b2b1db-1bf9-4496-8245-8ac68bdf6bf9",
   "metadata": {},
   "outputs": [],
   "source": [
    "# 5th Part: Statistical Analysis\n",
    "# ---------------------------------------------------------------------\n",
    "# Task: Conduct statistical tests such as correlation or regression to examine relationships between variables.\n"
   ]
  },
  {
   "cell_type": "code",
   "execution_count": null,
   "id": "2b5e468c-a40b-462d-a2e7-9a87003f5826",
   "metadata": {},
   "outputs": [],
   "source": [
    "# Example:\n",
    "# Perform linear regression on alcohol consumption and cognitive scores"
   ]
  },
  {
   "cell_type": "code",
   "execution_count": null,
   "id": "6fa14fcb-f208-4981-932e-af8de85cb701",
   "metadata": {},
   "outputs": [],
   "source": [
    "# Conclusion: Insights and Recommendations\n"
   ]
  }
 ],
 "metadata": {
  "kernelspec": {
   "display_name": "Python 3 (ipykernel)",
   "language": "python",
   "name": "python3"
  },
  "language_info": {
   "codemirror_mode": {
    "name": "ipython",
    "version": 3
   },
   "file_extension": ".py",
   "mimetype": "text/x-python",
   "name": "python",
   "nbconvert_exporter": "python",
   "pygments_lexer": "ipython3",
   "version": "3.12.4"
  }
 },
 "nbformat": 4,
 "nbformat_minor": 5
}
